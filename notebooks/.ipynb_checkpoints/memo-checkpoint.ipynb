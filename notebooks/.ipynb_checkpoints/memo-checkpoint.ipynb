{
 "cells": [
  {
   "cell_type": "code",
   "execution_count": 1,
   "id": "70631d9b",
   "metadata": {},
   "outputs": [],
   "source": [
    "ppifg = 77760"
   ]
  },
  {
   "cell_type": "code",
   "execution_count": 2,
   "id": "d54b46d5",
   "metadata": {},
   "outputs": [],
   "source": [
    "post_trigger = ppifg * 500"
   ]
  },
  {
   "cell_type": "code",
   "execution_count": 3,
   "id": "4235ea19",
   "metadata": {},
   "outputs": [
    {
     "data": {
      "text/plain": [
       "38880000"
      ]
     },
     "execution_count": 3,
     "metadata": {},
     "output_type": "execute_result"
    }
   ],
   "source": [
    "post_trigger"
   ]
  },
  {
   "cell_type": "code",
   "execution_count": 11,
   "id": "55c854d5",
   "metadata": {},
   "outputs": [],
   "source": [
    "v_p = 12\n",
    "tau_ifg = ppifg / 1e9\n",
    "tau_p = tau_ifg * 500"
   ]
  },
  {
   "cell_type": "code",
   "execution_count": 68,
   "id": "04f9ce68",
   "metadata": {},
   "outputs": [
    {
     "name": "stdout",
     "output_type": "stream",
     "text": [
      "2.56648\n",
      "corrected would be:  1.1932686013528258\n"
     ]
    }
   ],
   "source": [
    "dx = 1.75\n",
    "blur = dx * v_p * tau_p\n",
    "blur_factor = 1 + v_p * tau_p\n",
    "\n",
    "print(dx + blur)\n",
    "print(\"corrected would be: \", dx / blur_factor)"
   ]
  },
  {
   "cell_type": "code",
   "execution_count": 33,
   "id": "4c8c5ca4",
   "metadata": {},
   "outputs": [
    {
     "data": {
      "text/plain": [
       "10720"
      ]
     },
     "execution_count": 33,
     "metadata": {},
     "output_type": "execute_result"
    }
   ],
   "source": [
    "81 * 20 + 9100"
   ]
  },
  {
   "cell_type": "code",
   "execution_count": 38,
   "id": "e45e76d9",
   "metadata": {},
   "outputs": [
    {
     "data": {
      "text/plain": [
       "11401.867772201615"
      ]
     },
     "execution_count": 38,
     "metadata": {},
     "output_type": "execute_result"
    }
   ],
   "source": [
    "10720 + 6.818677722016147 * 100"
   ]
  },
  {
   "cell_type": "code",
   "execution_count": 43,
   "id": "7f95d952",
   "metadata": {},
   "outputs": [
    {
     "data": {
      "text/plain": [
       "11090"
      ]
     },
     "execution_count": 43,
     "metadata": {},
     "output_type": "execute_result"
    }
   ],
   "source": [
    "37 * 10 + 10720"
   ]
  },
  {
   "cell_type": "code",
   "execution_count": 44,
   "id": "573fb6c5",
   "metadata": {},
   "outputs": [],
   "source": [
    "import numpy as np"
   ]
  },
  {
   "cell_type": "code",
   "execution_count": 46,
   "id": "1bce9243",
   "metadata": {},
   "outputs": [],
   "source": [
    "data = np.load(\"../img_10um.npy\")"
   ]
  },
  {
   "cell_type": "code",
   "execution_count": 47,
   "id": "26d0759f",
   "metadata": {},
   "outputs": [],
   "source": [
    "from scipy.integrate import simpson"
   ]
  },
  {
   "cell_type": "code",
   "execution_count": 48,
   "id": "069f197e",
   "metadata": {},
   "outputs": [],
   "source": [
    "img = simpson(data, axis=-1)"
   ]
  },
  {
   "cell_type": "code",
   "execution_count": 51,
   "id": "c533e17a",
   "metadata": {},
   "outputs": [],
   "source": [
    "y = np.arange(0, img.shape[0] * dx / blur_factor, dx / blur_factor)\n",
    "x = np.arange(0, img.shape[1] * 10, 10)"
   ]
  },
  {
   "cell_type": "code",
   "execution_count": 56,
   "id": "560cda05",
   "metadata": {},
   "outputs": [],
   "source": [
    "import matplotlib.pyplot as plt\n",
    "fig, ax = plt.subplots(1, 1)\n",
    "ax.pcolormesh(x, y[2:], img[2:], cmap='cividis')\n",
    "ax.set_aspect('equal')"
   ]
  },
  {
   "cell_type": "code",
   "execution_count": 61,
   "id": "3b280562",
   "metadata": {},
   "outputs": [],
   "source": [
    "stage1_lims = np.asarray(ax.get_ylim()) + 10720\n",
    "stage2_lims = np.asarray(ax.get_xlim()) + 6950"
   ]
  },
  {
   "cell_type": "code",
   "execution_count": 63,
   "id": "ff8d0d6b",
   "metadata": {},
   "outputs": [
    {
     "name": "stdout",
     "output_type": "stream",
     "text": [
      "[10934.93212504 11368.40656008] \n",
      " [8067.90519465 8238.2933127 ]\n"
     ]
    }
   ],
   "source": [
    "print(stage1_lims, '\\n', stage2_lims)"
   ]
  },
  {
   "cell_type": "code",
   "execution_count": 64,
   "id": "bacf193c",
   "metadata": {},
   "outputs": [
    {
     "data": {
      "text/plain": [
       "array([8153.09925367])"
      ]
     },
     "execution_count": 64,
     "metadata": {},
     "output_type": "execute_result"
    }
   ],
   "source": [
    "stage2_lims[0] + np.diff(stage2_lims) / 2"
   ]
  },
  {
   "cell_type": "code",
   "execution_count": 65,
   "id": "428245db",
   "metadata": {},
   "outputs": [
    {
     "data": {
      "text/plain": [
       "0.8173148148148148"
      ]
     },
     "execution_count": 65,
     "metadata": {},
     "output_type": "execute_result"
    }
   ],
   "source": [
    "364 * 97 / 12 / 3600"
   ]
  },
  {
   "cell_type": "code",
   "execution_count": 66,
   "id": "2c6f80d7",
   "metadata": {},
   "outputs": [],
   "source": [
    "fine = np.load(\"../img1_1.75um.npy\")"
   ]
  },
  {
   "cell_type": "code",
   "execution_count": 67,
   "id": "d3bd542e",
   "metadata": {},
   "outputs": [],
   "source": [
    "img_fine = simpson(fine, axis=-1)"
   ]
  },
  {
   "cell_type": "code",
   "execution_count": 72,
   "id": "56b158e7",
   "metadata": {},
   "outputs": [],
   "source": [
    "y = np.arange(0, img_fine.shape[0] * dx / blur_factor, dx / blur_factor)\n",
    "x = np.arange(0, img_fine.shape[1] * dx, dx)"
   ]
  },
  {
   "cell_type": "code",
   "execution_count": 73,
   "id": "e2516999",
   "metadata": {},
   "outputs": [],
   "source": [
    "fig, ax = plt.subplots(1, 1)\n",
    "ax.pcolormesh(x, y[2:], img_fine[2:], cmap='cividis')\n",
    "ax.set_aspect('equal')"
   ]
  },
  {
   "cell_type": "code",
   "execution_count": null,
   "id": "380a43b8",
   "metadata": {},
   "outputs": [],
   "source": []
  }
 ],
 "metadata": {
  "kernelspec": {
   "display_name": "Python 3 (ipykernel)",
   "language": "python",
   "name": "python3"
  },
  "language_info": {
   "codemirror_mode": {
    "name": "ipython",
    "version": 3
   },
   "file_extension": ".py",
   "mimetype": "text/x-python",
   "name": "python",
   "nbconvert_exporter": "python",
   "pygments_lexer": "ipython3",
   "version": "3.10.6"
  }
 },
 "nbformat": 4,
 "nbformat_minor": 5
}
