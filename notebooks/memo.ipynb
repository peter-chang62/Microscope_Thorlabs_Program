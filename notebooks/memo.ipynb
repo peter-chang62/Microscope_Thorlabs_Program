{
 "cells": [
  {
   "cell_type": "code",
   "execution_count": 1,
   "id": "c3a90bdb",
   "metadata": {},
   "outputs": [],
   "source": [
    "ppifg = 77760"
   ]
  },
  {
   "cell_type": "code",
   "execution_count": 2,
   "id": "83e318b9",
   "metadata": {},
   "outputs": [],
   "source": [
    "post_trigger = ppifg * 500"
   ]
  },
  {
   "cell_type": "code",
   "execution_count": 3,
   "id": "64e8bd17",
   "metadata": {},
   "outputs": [
    {
     "data": {
      "text/plain": [
       "38880000"
      ]
     },
     "execution_count": 3,
     "metadata": {},
     "output_type": "execute_result"
    }
   ],
   "source": [
    "post_trigger"
   ]
  },
  {
   "cell_type": "code",
   "execution_count": 11,
   "id": "2d86f8e3",
   "metadata": {},
   "outputs": [],
   "source": [
    "v_p = 12\n",
    "tau_ifg = ppifg / 1e9\n",
    "tau_p = tau_ifg * 500"
   ]
  },
  {
   "cell_type": "code",
   "execution_count": 68,
   "id": "5081b76b",
   "metadata": {},
   "outputs": [
    {
     "name": "stdout",
     "output_type": "stream",
     "text": [
      "2.56648\n",
      "corrected would be:  1.1932686013528258\n"
     ]
    }
   ],
   "source": [
    "dx = 1.75\n",
    "blur = dx * v_p * tau_p\n",
    "blur_factor = 1 + v_p * tau_p\n",
    "\n",
    "print(dx + blur)\n",
    "print(\"corrected would be: \", dx / blur_factor)"
   ]
  },
  {
   "cell_type": "code",
   "execution_count": 33,
   "id": "e9cdb64c",
   "metadata": {},
   "outputs": [
    {
     "data": {
      "text/plain": [
       "10720"
      ]
     },
     "execution_count": 33,
     "metadata": {},
     "output_type": "execute_result"
    }
   ],
   "source": [
    "81 * 20 + 9100"
   ]
  },
  {
   "cell_type": "code",
   "execution_count": 38,
   "id": "e7ab3eb2",
   "metadata": {},
   "outputs": [
    {
     "data": {
      "text/plain": [
       "11401.867772201615"
      ]
     },
     "execution_count": 38,
     "metadata": {},
     "output_type": "execute_result"
    }
   ],
   "source": [
    "10720 + 6.818677722016147 * 100"
   ]
  },
  {
   "cell_type": "code",
   "execution_count": 43,
   "id": "72f262cf",
   "metadata": {},
   "outputs": [
    {
     "data": {
      "text/plain": [
       "11090"
      ]
     },
     "execution_count": 43,
     "metadata": {},
     "output_type": "execute_result"
    }
   ],
   "source": [
    "37 * 10 + 10720"
   ]
  },
  {
   "cell_type": "code",
   "execution_count": 44,
   "id": "47aab6bd",
   "metadata": {},
   "outputs": [],
   "source": [
    "import numpy as np"
   ]
  },
  {
   "cell_type": "code",
   "execution_count": 46,
   "id": "4f5af90f",
   "metadata": {},
   "outputs": [],
   "source": [
    "data = np.load(\"../img_10um.npy\")"
   ]
  },
  {
   "cell_type": "code",
   "execution_count": 47,
   "id": "722baf15",
   "metadata": {},
   "outputs": [],
   "source": [
    "from scipy.integrate import simpson"
   ]
  },
  {
   "cell_type": "code",
   "execution_count": 48,
   "id": "39ade07a",
   "metadata": {},
   "outputs": [],
   "source": [
    "img = simpson(data, axis=-1)"
   ]
  },
  {
   "cell_type": "code",
   "execution_count": 51,
   "id": "c10c62e2",
   "metadata": {},
   "outputs": [],
   "source": [
    "y = np.arange(0, img.shape[0] * dx / blur_factor, dx / blur_factor)\n",
    "x = np.arange(0, img.shape[1] * 10, 10)"
   ]
  },
  {
   "cell_type": "code",
   "execution_count": 56,
   "id": "d5a7acee",
   "metadata": {},
   "outputs": [],
   "source": [
    "import matplotlib.pyplot as plt\n",
    "fig, ax = plt.subplots(1, 1)\n",
    "ax.pcolormesh(x, y[2:], img[2:], cmap='cividis')\n",
    "ax.set_aspect('equal')"
   ]
  },
  {
   "cell_type": "code",
   "execution_count": 61,
   "id": "568c0a24",
   "metadata": {},
   "outputs": [],
   "source": [
    "stage1_lims = np.asarray(ax.get_ylim()) + 10720\n",
    "stage2_lims = np.asarray(ax.get_xlim()) + 6950"
   ]
  },
  {
   "cell_type": "code",
   "execution_count": 1,
   "id": "d3ee6f12",
   "metadata": {},
   "outputs": [
    {
     "ename": "NameError",
     "evalue": "name 'stage1_lims' is not defined",
     "output_type": "error",
     "traceback": [
      "\u001b[1;31m---------------------------------------------------------------------------\u001b[0m",
      "\u001b[1;31mNameError\u001b[0m                                 Traceback (most recent call last)",
      "\u001b[1;32m~\\AppData\\Local\\Temp\\ipykernel_22352\\3593053204.py\u001b[0m in \u001b[0;36m<cell line: 1>\u001b[1;34m()\u001b[0m\n\u001b[1;32m----> 1\u001b[1;33m \u001b[0mprint\u001b[0m\u001b[1;33m(\u001b[0m\u001b[0mstage1_lims\u001b[0m \u001b[1;33m-\u001b[0m \u001b[1;36m50\u001b[0m\u001b[1;33m,\u001b[0m \u001b[1;34m'\\n'\u001b[0m\u001b[1;33m,\u001b[0m \u001b[0mstage2_lims\u001b[0m \u001b[1;33m-\u001b[0m \u001b[1;36m50\u001b[0m\u001b[1;33m)\u001b[0m\u001b[1;33m\u001b[0m\u001b[1;33m\u001b[0m\u001b[0m\n\u001b[0m",
      "\u001b[1;31mNameError\u001b[0m: name 'stage1_lims' is not defined"
     ]
    }
   ],
   "source": [
    "print(stage1_lims - 50, '\\n', stage2_lims - 50)"
   ]
  },
  {
   "cell_type": "code",
   "execution_count": 64,
   "id": "e75bad6e",
   "metadata": {},
   "outputs": [
    {
     "data": {
      "text/plain": [
       "array([8153.09925367])"
      ]
     },
     "execution_count": 64,
     "metadata": {},
     "output_type": "execute_result"
    }
   ],
   "source": [
    "stage2_lims[0] + np.diff(stage2_lims) / 2"
   ]
  },
  {
   "cell_type": "code",
   "execution_count": 65,
   "id": "1ffcfe98",
   "metadata": {},
   "outputs": [
    {
     "data": {
      "text/plain": [
       "0.8173148148148148"
      ]
     },
     "execution_count": 65,
     "metadata": {},
     "output_type": "execute_result"
    }
   ],
   "source": [
    "364 * 97 / 12 / 3600"
   ]
  },
  {
   "cell_type": "code",
   "execution_count": 74,
   "id": "6321bd26",
   "metadata": {},
   "outputs": [],
   "source": [
    "fine = np.hstack((np.load(\"../img1_1.75um.npy\"), np.load(\"../img2_1.75um.npy\")))"
   ]
  },
  {
   "cell_type": "code",
   "execution_count": 75,
   "id": "1be9f966",
   "metadata": {},
   "outputs": [],
   "source": [
    "img_fine = simpson(fine, axis=-1)"
   ]
  },
  {
   "cell_type": "code",
   "execution_count": 76,
   "id": "491e8cd1",
   "metadata": {},
   "outputs": [],
   "source": [
    "y = np.arange(0, img_fine.shape[0] * dx / blur_factor, dx / blur_factor)\n",
    "x = np.arange(0, img_fine.shape[1] * dx, dx)"
   ]
  },
  {
   "cell_type": "code",
   "execution_count": 77,
   "id": "f0c30cd0",
   "metadata": {},
   "outputs": [],
   "source": [
    "fig, ax = plt.subplots(1, 1)\n",
    "ax.pcolormesh(x, y[2:], img_fine[2:], cmap='cividis')\n",
    "ax.set_aspect('equal')"
   ]
  },
  {
   "cell_type": "code",
   "execution_count": 4,
   "id": "1c7cdce6",
   "metadata": {},
   "outputs": [
    {
     "data": {
      "text/plain": [
       "1.5552000000000001"
      ]
     },
     "execution_count": 4,
     "metadata": {},
     "output_type": "execute_result"
    }
   ],
   "source": [
    "77760 * 4 * 500 * 10 * 1e-9"
   ]
  },
  {
   "cell_type": "code",
   "execution_count": null,
   "id": "2800c50b",
   "metadata": {},
   "outputs": [],
   "source": []
  }
 ],
 "metadata": {
  "kernelspec": {
   "display_name": "Python 3 (ipykernel)",
   "language": "python",
   "name": "python3"
  },
  "language_info": {
   "codemirror_mode": {
    "name": "ipython",
    "version": 3
   },
   "file_extension": ".py",
   "mimetype": "text/x-python",
   "name": "python",
   "nbconvert_exporter": "python",
   "pygments_lexer": "ipython3",
   "version": "3.10.6"
  }
 },
 "nbformat": 4,
 "nbformat_minor": 5
}
